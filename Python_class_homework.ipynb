{
 "cells": [
  {
   "cell_type": "markdown",
   "metadata": {},
   "source": [
    "Задание 1\n",
    "Напишите функцию, которая возвращает название валюты (поле ‘Name’) с максимальным значением курса с помощью сервиса https://www.cbr-xml-daily.ru/daily_json.js"
   ]
  },
  {
   "cell_type": "markdown",
   "metadata": {},
   "source": [
    "Задание 2\n",
    "Добавьте в класс Rate параметр diff (со значениями True или False), который в случае значения True в методах курсов валют (eur, usd итд) будет возвращать не курс валюты, а изменение по сравнению в прошлым значением. Считайте, self.diff будет принимать значение True только при возврате значения курса. При отображении всей информации о валюте он не используется."
   ]
  },
  {
   "cell_type": "code",
   "execution_count": 2,
   "metadata": {},
   "outputs": [],
   "source": [
    "import requests"
   ]
  },
  {
   "cell_type": "code",
   "execution_count": 3,
   "metadata": {},
   "outputs": [],
   "source": [
    "class Rate:\n",
    "    def __init__(self, format_='value'):\n",
    "        self.format = format_\n",
    "    \n",
    "    def exchange_rates(self):\n",
    "        \"\"\"\n",
    "        Возвращает ответ сервиса с информацией о валютах в виде:\n",
    "        \n",
    "        {\n",
    "            'AMD': {\n",
    "                'CharCode': 'AMD',\n",
    "                'ID': 'R01060',\n",
    "                'Name': 'Армянских драмов',\n",
    "                'Nominal': 100,\n",
    "                'NumCode': '051',\n",
    "                'Previous': 14.103,\n",
    "                'Value': 14.0879\n",
    "                },\n",
    "            ...\n",
    "        }\n",
    "        \"\"\"\n",
    "        a = requests.get('https://www.cbr-xml-daily.ru/daily_json.js')\n",
    "        return a.json()['Valute']\n",
    "    \n",
    "    def max_value(self):\n",
    "        \"\"\"\n",
    "        Возвращает ответ сервиса с информацией: наименование валюты, у которой в этом день максимальное значение курса, \n",
    "        значение курса и наименование валюты.\n",
    "        Rate.max_value()\n",
    "        \"\"\"\n",
    "        \n",
    "        response = self.exchange_rates()\n",
    "        max_rate = 0\n",
    "        max_rate_name = ''\n",
    "        max_rate_name_full = ''\n",
    "        for key, value in response.items():\n",
    "            #print(key, value['Value'])\n",
    "            if value['Value'] > max_rate:\n",
    "                max_rate = value['Value']\n",
    "                max_rate_name_full = value['Name']\n",
    "                max_rate_name = key\n",
    "        return(max_rate_name, max_rate, max_rate_name_full)\n",
    "                    \n",
    "    def make_format(self, currency):\n",
    "        \"\"\"\n",
    "        Возвращает информацию о валюте currency в двух вариантах:\n",
    "        - полная информация о валюте при self.format = 'full':\n",
    "        Rate('full').make_format('EUR')\n",
    "        {\n",
    "            'CharCode': 'EUR',\n",
    "            'ID': 'R01239',\n",
    "            'Name': 'Евро',\n",
    "            'Nominal': 1,\n",
    "            'NumCode': '978',\n",
    "            'Previous': 79.6765,\n",
    "            'Value': 79.4966\n",
    "        }\n",
    "        \n",
    "        Rate('value').make_format('EUR')\n",
    "        79.4966\n",
    "        \"\"\"\n",
    "        response = self.exchange_rates()\n",
    "        \n",
    "        if currency in response:\n",
    "            if self.format == 'full':\n",
    "                return response[currency]\n",
    "            \n",
    "            if self.format == 'value':\n",
    "                return response[currency]['Value']\n",
    "        \n",
    "        return 'Error'\n",
    "    \n",
    "    def usd(self):\n",
    "        \"\"\"Возвращает курс доллара на сегодня в формате self.format\"\"\"\n",
    "        return self.make_format('USD')\n",
    "    \n",
    "    def diff (self, currency):\n",
    "        \"\"\"\n",
    "        Возвращает информацию об изменении курса валюты от предыдущего значения, \n",
    "        когда в классе применяется метод вывода данных: неполный, только по валюте, т.е. если \n",
    "        self.format = 'value'.\n",
    "        Rate('value').diff('EUR')\n",
    "        Для полного метода вывода данных при self.format = 'full', метод diff не нужен.\n",
    "        \"\"\"\n",
    "        \n",
    "        response = self.exchange_rates()\n",
    "        \n",
    "        if currency in response:\n",
    "            if self.format == 'full':\n",
    "                print('Смотри полные данные по валюте в методе make_format')\n",
    "                return\n",
    "            \n",
    "            if self.format == 'value':\n",
    "                d = response[currency]['Value'] - response[currency]['Previous']\n",
    "                print (f'Изменение курса {currency} по сравнению с прошлым значением: {d}')\n",
    "                return\n",
    "                       \n",
    "        return 'Error'    \n",
    "    \n",
    "    "
   ]
  },
  {
   "cell_type": "code",
   "execution_count": 4,
   "metadata": {},
   "outputs": [
    {
     "data": {
      "text/plain": [
       "('XDR', 105.2349, 'СДР (специальные права заимствования)')"
      ]
     },
     "execution_count": 4,
     "metadata": {},
     "output_type": "execute_result"
    }
   ],
   "source": [
    "r = Rate()\n",
    "r.max_value() #Результат по задаче 1"
   ]
  },
  {
   "cell_type": "code",
   "execution_count": 5,
   "metadata": {},
   "outputs": [
    {
     "name": "stdout",
     "output_type": "stream",
     "text": [
      "Изменение курса CAD по сравнению с прошлым значением: 0.10909999999999798\n"
     ]
    }
   ],
   "source": [
    "r.diff('CAD') #Результат по задаче 2, метод 'value' - по умолчанию"
   ]
  },
  {
   "cell_type": "code",
   "execution_count": 6,
   "metadata": {},
   "outputs": [
    {
     "name": "stdout",
     "output_type": "stream",
     "text": [
      "Смотри полные данные по валюте в методе make_format\n"
     ]
    }
   ],
   "source": [
    "r = Rate('full')\n",
    "r.diff('CAD') #Результат по задаче 2, метод 'full'."
   ]
  },
  {
   "cell_type": "markdown",
   "metadata": {},
   "source": [
    "Задание 3\n",
    "Напишите класс Designer, который учитывает количество международных премий. Подсказки в коде занятия в разделе “Домашнее задание задача 3”.\n",
    "\n",
    "Комментарий по классу Designer такой:\n",
    "Напишите класс Designer, который учитывает количество международных премий для дизайнеров (из презентации: “Повышение на 1 грейд за каждые 7 баллов. Получение международной премии – это +2 балла”). Считайте, что при выходе на работу сотрудник уже имеет две премии и их количество не меняется со стажем (конечно если хотите это можно вручную менять).\n",
    "\n",
    "Класс Designer пишется по аналогии с классом Developer из материалов занятия. Комментарий про его условия Вика написала выше: “Повышение на 1 грейд за каждые 7 баллов. Получение международной премии – это +2 балла”"
   ]
  },
  {
   "cell_type": "code",
   "execution_count": 8,
   "metadata": {},
   "outputs": [],
   "source": [
    "class Employee:\n",
    "    def __init__(self, name, seniority):\n",
    "        self.name = name\n",
    "        self.seniority = seniority #Стаж работы\n",
    "        \n",
    "        self.grade = 1\n",
    "    \n",
    "    def grade_up(self):\n",
    "        \"\"\"Повышает уровень сотрудника\"\"\"\n",
    "        self.grade += 1\n",
    "    \n",
    "    def publish_grade(self):\n",
    "        \"\"\"Публикация результатов аккредитации сотрудников\"\"\"\n",
    "        print(self.name, self.grade)\n",
    "    \n",
    "    def check_if_it_is_time_for_upgrade(self):\n",
    "        pass"
   ]
  },
  {
   "cell_type": "code",
   "execution_count": 31,
   "metadata": {},
   "outputs": [],
   "source": [
    "class Designer(Employee):\n",
    "    def __init__(self, name, seniority):\n",
    "        super().__init__(name, seniority)\n",
    "    \n",
    "        self.grade = 2*2 #По условиям задачи в отдел Дизайнеров берут сотрудников с двумя межд. премиями, т.е. с грейдом 2*2=4\n",
    "                            #Этот начальный грейд за премии не меняется со стажем\n",
    "    \n",
    "    def check_if_it_is_time_for_upgrade(self):\n",
    "        # для каждой аккредитации увеличиваем счетчик на 1\n",
    "        # пока считаем, что все сотрудники проходят аккредитацию\n",
    "        self.seniority += 1\n",
    "        \n",
    "        # условие повышения сотрудника из задачи: 1 балл за каждые 7 грейдов (1 грейд = 1 прохождение аккредитации)\n",
    "        #при этом грейды добавляются к начальному уровню грейда = 4.\n",
    "        if (self.grade + self.seniority) % 7 == 0:\n",
    "            self.grade_up()\n",
    "        \n",
    "        # публикация результатов\n",
    "        return self.publish_grade()"
   ]
  },
  {
   "cell_type": "code",
   "execution_count": 32,
   "metadata": {},
   "outputs": [],
   "source": [
    "# проверяем как работает система повышения сотрудников на примере отдела дизайна\n",
    "\n",
    "# дизайнер Александр только что пришел в компанию, и у него сразу грейд = 4 \n",
    "#(требование при приеме на работу - иметь 2 премии, за каждую по 2 грейда)\n",
    "alex = Designer('Александр', 0)\n",
    "#В параметры класса Designer мы передаем имя и стаж работы"
   ]
  },
  {
   "cell_type": "code",
   "execution_count": 33,
   "metadata": {},
   "outputs": [
    {
     "name": "stdout",
     "output_type": "stream",
     "text": [
      "Александр 4\n",
      "Александр 4\n",
      "Александр 5\n",
      "Александр 5\n",
      "Александр 5\n",
      "Александр 5\n",
      "Александр 5\n",
      "Александр 5\n",
      "Александр 6\n",
      "Александр 6\n",
      "Александр 6\n",
      "Александр 6\n",
      "Александр 6\n",
      "Александр 6\n",
      "Александр 7\n",
      "Александр 7\n",
      "Александр 7\n",
      "Александр 7\n",
      "Александр 7\n",
      "Александр 7\n"
     ]
    }
   ],
   "source": [
    "for i in range(20):\n",
    "    alex.check_if_it_is_time_for_upgrade()\n",
    "#Видно, что при примере на работу грейд = 4, через 2 года грей становится равным 5 и далее увеличивается каждые 7 лет на 1."
   ]
  }
 ],
 "metadata": {
  "kernelspec": {
   "display_name": "Python 3",
   "language": "python",
   "name": "python3"
  },
  "language_info": {
   "codemirror_mode": {
    "name": "ipython",
    "version": 3
   },
   "file_extension": ".py",
   "mimetype": "text/x-python",
   "name": "python",
   "nbconvert_exporter": "python",
   "pygments_lexer": "ipython3",
   "version": "3.8.5"
  }
 },
 "nbformat": 4,
 "nbformat_minor": 4
}
